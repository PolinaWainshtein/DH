{
  "nbformat": 4,
  "nbformat_minor": 0,
  "metadata": {
    "colab": {
      "provenance": [],
      "authorship_tag": "ABX9TyPX68ozw2AqGkysJVOx8OUt",
      "include_colab_link": true
    },
    "kernelspec": {
      "name": "python3",
      "display_name": "Python 3"
    },
    "language_info": {
      "name": "python"
    }
  },
  "cells": [
    {
      "cell_type": "markdown",
      "metadata": {
        "id": "view-in-github",
        "colab_type": "text"
      },
      "source": [
        "<a href=\"https://colab.research.google.com/github/PolinaWainshtein/DH/blob/main/bot.ipynb\" target=\"_parent\"><img src=\"https://colab.research.google.com/assets/colab-badge.svg\" alt=\"Open In Colab\"/></a>"
      ]
    },
    {
      "cell_type": "code",
      "execution_count": 1,
      "metadata": {
        "colab": {
          "base_uri": "https://localhost:8080/",
          "height": 384
        },
        "id": "ScRyBmuLndFh",
        "outputId": "98d7bd5f-a0f8-4407-adca-aece8f8cb925"
      },
      "outputs": [
        {
          "output_type": "error",
          "ename": "ModuleNotFoundError",
          "evalue": "ignored",
          "traceback": [
            "\u001b[0;31m---------------------------------------------------------------------------\u001b[0m",
            "\u001b[0;31mModuleNotFoundError\u001b[0m                       Traceback (most recent call last)",
            "\u001b[0;32m<ipython-input-1-77605daeac79>\u001b[0m in \u001b[0;36m<cell line: 1>\u001b[0;34m()\u001b[0m\n\u001b[0;32m----> 1\u001b[0;31m \u001b[0;32mimport\u001b[0m \u001b[0mtelebot\u001b[0m\u001b[0;34m\u001b[0m\u001b[0;34m\u001b[0m\u001b[0m\n\u001b[0m\u001b[1;32m      2\u001b[0m \u001b[0;32mfrom\u001b[0m \u001b[0mtelebot\u001b[0m \u001b[0;32mimport\u001b[0m \u001b[0mtypes\u001b[0m\u001b[0;34m\u001b[0m\u001b[0;34m\u001b[0m\u001b[0m\n\u001b[1;32m      3\u001b[0m \u001b[0;34m\u001b[0m\u001b[0m\n\u001b[1;32m      4\u001b[0m \u001b[0;34m\u001b[0m\u001b[0m\n\u001b[1;32m      5\u001b[0m \u001b[0mtitle\u001b[0m \u001b[0;34m=\u001b[0m \u001b[0;34m\"@vegan_meall_bot\"\u001b[0m\u001b[0;34m\u001b[0m\u001b[0;34m\u001b[0m\u001b[0m\n",
            "\u001b[0;31mModuleNotFoundError\u001b[0m: No module named 'telebot'",
            "",
            "\u001b[0;31m---------------------------------------------------------------------------\u001b[0;32m\nNOTE: If your import is failing due to a missing package, you can\nmanually install dependencies using either !pip or !apt.\n\nTo view examples of installing some common dependencies, click the\n\"Open Examples\" button below.\n\u001b[0;31m---------------------------------------------------------------------------\u001b[0m\n"
          ],
          "errorDetails": {
            "actions": [
              {
                "action": "open_url",
                "actionText": "Open Examples",
                "url": "/notebooks/snippets/importing_libraries.ipynb"
              }
            ]
          }
        }
      ],
      "source": [
        "import telebot\n",
        "from telebot import types\n",
        "\n",
        "\n",
        "title = \"@vegan_meall_bot\"\n",
        "your_bot = \"6974488548:AAETaUWM7HAAd460oaS4xhybRHBoibwPUkQ\"\n",
        "bot = telebot.TeleBot(your_bot)\n",
        "\n",
        "@bot.message_handler(commands=[\"start\"])\n",
        "def start(message):\n",
        "    markup=types.ReplyKeyboardMarkup(resize_keyboard=True)\n",
        "    item1=types.KeyboardButton(\"Идеи основных блюд\")\n",
        "    item2=types.KeyboardButton(\"Идеи перекусов\")\n",
        "    item3=types.KeyboardButton(\"Идеи дессертов\")\n",
        "    item4=types.KeyboardButton(\"Где посмотреть другие рецепты?\")\n",
        "    markup.row(item1)\n",
        "    markup.row(item3, item4)\n",
        "    markup.row(item2)\n",
        "    bot.send_message(message.chat.id, 'Приветствуем! Вы задались вопросом, что поесть веганского? Этот бот поможет с выбором.' , reply_markup=markup)\n",
        "\n",
        "\n",
        "@bot.message_handler(content_types=[\"text\"])\n",
        "def handle_text(message):\n",
        "    if message.text.strip() == 'Идеи основных блюд':\n",
        "        photo = open(\"vegan-pasta.jpg\", 'rb')\n",
        "        bot.send_photo(message.chat.id, photo)\n",
        "        meal1 = \"Паста с томатным соусом и овощами\"\n",
        "        meal2 = \"Тако с нутом, овощами и соусом\"\n",
        "        meal3 = \"Боул с киноа, бататом и брокколи\"\n",
        "        bot.send_message(message.chat.id, meal1)\n",
        "        bot.send_message(message.chat.id, meal2)\n",
        "        bot.send_message(message.chat.id, meal3)\n",
        "    elif message.text.strip() == 'Идеи перекусов':\n",
        "        photo1 = open(\"hummus.jpg\", 'rb')\n",
        "        bot.send_photo(message.chat.id, photo1)\n",
        "        snack1 = \"Смузи из банана, ягод и арахисовой пасты\"\n",
        "        snack2 = \"Хумус с морковными палочками и сельдереем\"\n",
        "        snack3= \"Мятый авокадо с соевым соусом и крекерами\"\n",
        "        bot.send_message(message.chat.id, snack1)\n",
        "        bot.send_message(message.chat.id, snack2)\n",
        "        bot.send_message(message.chat.id, snack3)\n",
        "    elif message.text.strip() == \"Идеи дессертов\":\n",
        "        photo2 = open(\"vegan-pie.jpg\", 'rb')\n",
        "        bot.send_photo(message.chat.id, photo2)\n",
        "        dessert1 = \"Хлеб из банана с изюмом и клюквой\"\n",
        "        dessert2 = \"Тыквенный пирог с апельсиновой глазурью\"\n",
        "        dessert3 = \"Печенье орео с порезанными фруктами\"\n",
        "        bot.send_message(message.chat.id, dessert1)\n",
        "        bot.send_message(message.chat.id, dessert2)\n",
        "        bot.send_message(message.chat.id, dessert3)\n",
        "    elif message.text.strip() == \"Где посмотреть другие рецепты?\":\n",
        "        photo3 = open(\"Vegan-salad-bowl-499145d.jpg\", 'rb')\n",
        "        bot.send_photo(message.chat.id, photo3)\n",
        "        text = \"Больше сотни рецептов веганской еды можно найти [здесь](https://www.bbcgoodfood.com/recipes/collection/vegan-recipes)\"\n",
        "        bot.send_message(message.chat.id, text)\n",
        "    else:\n",
        "        text1 = \"Пожалуйста, выберите ответ из предложенных\"\n",
        "        bot.send_message(message.chat.id, text1)\n",
        "\n",
        "bot.polling(none_stop=True, interval=0)"
      ]
    },
    {
      "cell_type": "code",
      "source": [
        "\n",
        "\n",
        "!pip install pytelegrambotapi\n"
      ],
      "metadata": {
        "colab": {
          "base_uri": "https://localhost:8080/"
        },
        "id": "y0qC6NkmnqwY",
        "outputId": "ae92228f-5294-42c1-92f0-04eff2f2f850"
      },
      "execution_count": 2,
      "outputs": [
        {
          "output_type": "stream",
          "name": "stdout",
          "text": [
            "Collecting pytelegrambotapi\n",
            "  Downloading pyTelegramBotAPI-4.14.0.tar.gz (243 kB)\n",
            "\u001b[2K     \u001b[90m━━━━━━━━━━━━━━━━━━━━━━━━━━━━━━━━━━━━━━━━\u001b[0m \u001b[32m243.1/243.1 kB\u001b[0m \u001b[31m3.8 MB/s\u001b[0m eta \u001b[36m0:00:00\u001b[0m\n",
            "\u001b[?25h  Preparing metadata (setup.py) ... \u001b[?25l\u001b[?25hdone\n",
            "Requirement already satisfied: requests in /usr/local/lib/python3.10/dist-packages (from pytelegrambotapi) (2.31.0)\n",
            "Requirement already satisfied: charset-normalizer<4,>=2 in /usr/local/lib/python3.10/dist-packages (from requests->pytelegrambotapi) (3.3.1)\n",
            "Requirement already satisfied: idna<4,>=2.5 in /usr/local/lib/python3.10/dist-packages (from requests->pytelegrambotapi) (3.4)\n",
            "Requirement already satisfied: urllib3<3,>=1.21.1 in /usr/local/lib/python3.10/dist-packages (from requests->pytelegrambotapi) (2.0.7)\n",
            "Requirement already satisfied: certifi>=2017.4.17 in /usr/local/lib/python3.10/dist-packages (from requests->pytelegrambotapi) (2023.7.22)\n",
            "Building wheels for collected packages: pytelegrambotapi\n",
            "  Building wheel for pytelegrambotapi (setup.py) ... \u001b[?25l\u001b[?25hdone\n",
            "  Created wheel for pytelegrambotapi: filename=pyTelegramBotAPI-4.14.0-py3-none-any.whl size=215251 sha256=16637960af58259f7ba6851845642597b155c83930c0b795b1e6e8e8f4b702b7\n",
            "  Stored in directory: /root/.cache/pip/wheels/25/51/2d/24b40a366c85c37928d5aa36ddf257e5a79fad25e1ecd11b2c\n",
            "Successfully built pytelegrambotapi\n",
            "Installing collected packages: pytelegrambotapi\n",
            "Successfully installed pytelegrambotapi-4.14.0\n"
          ]
        }
      ]
    },
    {
      "cell_type": "code",
      "source": [
        "import telebot\n",
        "from telebot import types\n",
        "\n",
        "\n",
        "title = \"@vegan_meall_bot\"\n",
        "your_bot = \"6974488548:AAETaUWM7HAAd460oaS4xhybRHBoibwPUkQ\"\n",
        "bot = telebot.TeleBot(your_bot)\n",
        "\n",
        "@bot.message_handler(commands=[\"start\"])\n",
        "def start(message):\n",
        "    markup=types.ReplyKeyboardMarkup(resize_keyboard=True)\n",
        "    item1=types.KeyboardButton(\"Идеи основных блюд\")\n",
        "    item2=types.KeyboardButton(\"Идеи перекусов\")\n",
        "    item3=types.KeyboardButton(\"Идеи десертов\")\n",
        "    item4=types.KeyboardButton(\"Где посмотреть другие рецепты?\")\n",
        "    markup.row(item1)\n",
        "    markup.row(item3, item4)\n",
        "    markup.row(item2)\n",
        "    bot.send_message(message.chat.id, 'Приветствуем! Вы задались вопросом, что поесть веганского? Этот бот поможет с выбором.' , reply_markup=markup)\n",
        "\n",
        "\n",
        "@bot.message_handler(content_types=[\"text\"])\n",
        "def handle_text(message):\n",
        "    if message.text.strip() == 'Идеи основных блюд':\n",
        "        photo = open(\"vegan-pasta.jpg\", 'rb')\n",
        "        bot.send_photo(message.chat.id, photo)\n",
        "        meal1 = \"Паста с томатным соусом и овощами\"\n",
        "        meal2 = \"Тако с нутом, овощами и соусом\"\n",
        "        meal3 = \"Боул с киноа, бататом и брокколи\"\n",
        "        bot.send_message(message.chat.id, meal1)\n",
        "        bot.send_message(message.chat.id, meal2)\n",
        "        bot.send_message(message.chat.id, meal3)\n",
        "    elif message.text.strip() == 'Идеи перекусов':\n",
        "        photo1 = open(\"hummus.jpg\", 'rb')\n",
        "        bot.send_photo(message.chat.id, photo1)\n",
        "        snack1 = \"Смузи из банана, ягод и арахисовой пасты\"\n",
        "        snack2 = \"Хумус с морковными палочками и сельдереем\"\n",
        "        snack3= \"Мятый авокадо с соевым соусом и крекерами\"\n",
        "        bot.send_message(message.chat.id, snack1)\n",
        "        bot.send_message(message.chat.id, snack2)\n",
        "        bot.send_message(message.chat.id, snack3)\n",
        "    elif message.text.strip() == \"Идеи десертов\":\n",
        "        photo2 = open(\"vegan-pie.jpg\", 'rb')\n",
        "        bot.send_photo(message.chat.id, photo2)\n",
        "        dessert1 = \"Хлеб из банана с изюмом и клюквой\"\n",
        "        dessert2 = \"Тыквенный пирог с апельсиновой глазурью\"\n",
        "        dessert3 = \"Печенье орео с порезанными фруктами\"\n",
        "        bot.send_message(message.chat.id, dessert1)\n",
        "        bot.send_message(message.chat.id, dessert2)\n",
        "        bot.send_message(message.chat.id, dessert3)\n",
        "    elif message.text.strip() == \"Где посмотреть другие рецепты?\":\n",
        "        photo3 = open(\"Vegan-salad-bowl-499145d.jpg\", 'rb')\n",
        "        bot.send_photo(message.chat.id, photo3)\n",
        "        text = \"Больше сотни рецептов веганской еды можно найти [здесь](https://www.bbcgoodfood.com/recipes/collection/vegan-recipes)\"\n",
        "        bot.send_message(message.chat.id, text, parse_mode='MarkdownV2')\n",
        "    else:\n",
        "        text1 = \"Пожалуйста, выберите ответ из предложенных\"\n",
        "        bot.send_message(message.chat.id, text1)\n",
        "\n",
        "bot.polling(none_stop=True, interval=0)"
      ],
      "metadata": {
        "id": "QxJ8YRNDn2Ah"
      },
      "execution_count": 5,
      "outputs": []
    }
  ]
}